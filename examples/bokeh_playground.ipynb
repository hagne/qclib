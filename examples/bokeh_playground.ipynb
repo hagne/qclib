{
 "cells": [
  {
   "cell_type": "markdown",
   "metadata": {
    "Collapsed": "false"
   },
   "source": [
    "# source"
   ]
  },
  {
   "cell_type": "markdown",
   "metadata": {
    "Collapsed": "false"
   },
   "source": [
    "https://docs.bokeh.org/en/latest/docs/user_guide/interaction/callbacks.html#customjs-for-selections"
   ]
  },
  {
   "cell_type": "code",
   "execution_count": 1,
   "metadata": {
    "Collapsed": "false",
    "ExecuteTime": {
     "end_time": "2020-03-16T19:04:22.864752Z",
     "start_time": "2020-03-16T19:04:22.704912Z"
    }
   },
   "outputs": [],
   "source": [
    "from random import random\n",
    "\n",
    "from bokeh.layouts import row\n",
    "from bokeh.models import ColumnDataSource, CustomJS\n",
    "from bokeh.plotting import figure, output_file, show"
   ]
  },
  {
   "cell_type": "code",
   "execution_count": 2,
   "metadata": {
    "ExecuteTime": {
     "end_time": "2020-03-16T19:04:23.016655Z",
     "start_time": "2020-03-16T19:04:23.012284Z"
    }
   },
   "outputs": [],
   "source": [
    "from bokeh.io import output_notebook"
   ]
  },
  {
   "cell_type": "code",
   "execution_count": 3,
   "metadata": {
    "ExecuteTime": {
     "end_time": "2020-03-16T19:04:23.386544Z",
     "start_time": "2020-03-16T19:04:23.371987Z"
    }
   },
   "outputs": [
    {
     "data": {
      "text/html": [
       "\n",
       "    <div class=\"bk-root\">\n",
       "        <a href=\"https://bokeh.org\" target=\"_blank\" class=\"bk-logo bk-logo-small bk-logo-notebook\"></a>\n",
       "        <span id=\"1001\">Loading BokehJS ...</span>\n",
       "    </div>"
      ]
     },
     "metadata": {},
     "output_type": "display_data"
    },
    {
     "data": {
      "application/javascript": [
       "\n",
       "(function(root) {\n",
       "  function now() {\n",
       "    return new Date();\n",
       "  }\n",
       "\n",
       "  var force = true;\n",
       "\n",
       "  if (typeof root._bokeh_onload_callbacks === \"undefined\" || force === true) {\n",
       "    root._bokeh_onload_callbacks = [];\n",
       "    root._bokeh_is_loading = undefined;\n",
       "  }\n",
       "\n",
       "  var JS_MIME_TYPE = 'application/javascript';\n",
       "  var HTML_MIME_TYPE = 'text/html';\n",
       "  var EXEC_MIME_TYPE = 'application/vnd.bokehjs_exec.v0+json';\n",
       "  var CLASS_NAME = 'output_bokeh rendered_html';\n",
       "\n",
       "  /**\n",
       "   * Render data to the DOM node\n",
       "   */\n",
       "  function render(props, node) {\n",
       "    var script = document.createElement(\"script\");\n",
       "    node.appendChild(script);\n",
       "  }\n",
       "\n",
       "  /**\n",
       "   * Handle when an output is cleared or removed\n",
       "   */\n",
       "  function handleClearOutput(event, handle) {\n",
       "    var cell = handle.cell;\n",
       "\n",
       "    var id = cell.output_area._bokeh_element_id;\n",
       "    var server_id = cell.output_area._bokeh_server_id;\n",
       "    // Clean up Bokeh references\n",
       "    if (id != null && id in Bokeh.index) {\n",
       "      Bokeh.index[id].model.document.clear();\n",
       "      delete Bokeh.index[id];\n",
       "    }\n",
       "\n",
       "    if (server_id !== undefined) {\n",
       "      // Clean up Bokeh references\n",
       "      var cmd = \"from bokeh.io.state import curstate; print(curstate().uuid_to_server['\" + server_id + \"'].get_sessions()[0].document.roots[0]._id)\";\n",
       "      cell.notebook.kernel.execute(cmd, {\n",
       "        iopub: {\n",
       "          output: function(msg) {\n",
       "            var id = msg.content.text.trim();\n",
       "            if (id in Bokeh.index) {\n",
       "              Bokeh.index[id].model.document.clear();\n",
       "              delete Bokeh.index[id];\n",
       "            }\n",
       "          }\n",
       "        }\n",
       "      });\n",
       "      // Destroy server and session\n",
       "      var cmd = \"import bokeh.io.notebook as ion; ion.destroy_server('\" + server_id + \"')\";\n",
       "      cell.notebook.kernel.execute(cmd);\n",
       "    }\n",
       "  }\n",
       "\n",
       "  /**\n",
       "   * Handle when a new output is added\n",
       "   */\n",
       "  function handleAddOutput(event, handle) {\n",
       "    var output_area = handle.output_area;\n",
       "    var output = handle.output;\n",
       "\n",
       "    // limit handleAddOutput to display_data with EXEC_MIME_TYPE content only\n",
       "    if ((output.output_type != \"display_data\") || (!output.data.hasOwnProperty(EXEC_MIME_TYPE))) {\n",
       "      return\n",
       "    }\n",
       "\n",
       "    var toinsert = output_area.element.find(\".\" + CLASS_NAME.split(' ')[0]);\n",
       "\n",
       "    if (output.metadata[EXEC_MIME_TYPE][\"id\"] !== undefined) {\n",
       "      toinsert[toinsert.length - 1].firstChild.textContent = output.data[JS_MIME_TYPE];\n",
       "      // store reference to embed id on output_area\n",
       "      output_area._bokeh_element_id = output.metadata[EXEC_MIME_TYPE][\"id\"];\n",
       "    }\n",
       "    if (output.metadata[EXEC_MIME_TYPE][\"server_id\"] !== undefined) {\n",
       "      var bk_div = document.createElement(\"div\");\n",
       "      bk_div.innerHTML = output.data[HTML_MIME_TYPE];\n",
       "      var script_attrs = bk_div.children[0].attributes;\n",
       "      for (var i = 0; i < script_attrs.length; i++) {\n",
       "        toinsert[toinsert.length - 1].firstChild.setAttribute(script_attrs[i].name, script_attrs[i].value);\n",
       "      }\n",
       "      // store reference to server id on output_area\n",
       "      output_area._bokeh_server_id = output.metadata[EXEC_MIME_TYPE][\"server_id\"];\n",
       "    }\n",
       "  }\n",
       "\n",
       "  function register_renderer(events, OutputArea) {\n",
       "\n",
       "    function append_mime(data, metadata, element) {\n",
       "      // create a DOM node to render to\n",
       "      var toinsert = this.create_output_subarea(\n",
       "        metadata,\n",
       "        CLASS_NAME,\n",
       "        EXEC_MIME_TYPE\n",
       "      );\n",
       "      this.keyboard_manager.register_events(toinsert);\n",
       "      // Render to node\n",
       "      var props = {data: data, metadata: metadata[EXEC_MIME_TYPE]};\n",
       "      render(props, toinsert[toinsert.length - 1]);\n",
       "      element.append(toinsert);\n",
       "      return toinsert\n",
       "    }\n",
       "\n",
       "    /* Handle when an output is cleared or removed */\n",
       "    events.on('clear_output.CodeCell', handleClearOutput);\n",
       "    events.on('delete.Cell', handleClearOutput);\n",
       "\n",
       "    /* Handle when a new output is added */\n",
       "    events.on('output_added.OutputArea', handleAddOutput);\n",
       "\n",
       "    /**\n",
       "     * Register the mime type and append_mime function with output_area\n",
       "     */\n",
       "    OutputArea.prototype.register_mime_type(EXEC_MIME_TYPE, append_mime, {\n",
       "      /* Is output safe? */\n",
       "      safe: true,\n",
       "      /* Index of renderer in `output_area.display_order` */\n",
       "      index: 0\n",
       "    });\n",
       "  }\n",
       "\n",
       "  // register the mime type if in Jupyter Notebook environment and previously unregistered\n",
       "  if (root.Jupyter !== undefined) {\n",
       "    var events = require('base/js/events');\n",
       "    var OutputArea = require('notebook/js/outputarea').OutputArea;\n",
       "\n",
       "    if (OutputArea.prototype.mime_types().indexOf(EXEC_MIME_TYPE) == -1) {\n",
       "      register_renderer(events, OutputArea);\n",
       "    }\n",
       "  }\n",
       "\n",
       "  \n",
       "  if (typeof (root._bokeh_timeout) === \"undefined\" || force === true) {\n",
       "    root._bokeh_timeout = Date.now() + 5000;\n",
       "    root._bokeh_failed_load = false;\n",
       "  }\n",
       "\n",
       "  var NB_LOAD_WARNING = {'data': {'text/html':\n",
       "     \"<div style='background-color: #fdd'>\\n\"+\n",
       "     \"<p>\\n\"+\n",
       "     \"BokehJS does not appear to have successfully loaded. If loading BokehJS from CDN, this \\n\"+\n",
       "     \"may be due to a slow or bad network connection. Possible fixes:\\n\"+\n",
       "     \"</p>\\n\"+\n",
       "     \"<ul>\\n\"+\n",
       "     \"<li>re-rerun `output_notebook()` to attempt to load from CDN again, or</li>\\n\"+\n",
       "     \"<li>use INLINE resources instead, as so:</li>\\n\"+\n",
       "     \"</ul>\\n\"+\n",
       "     \"<code>\\n\"+\n",
       "     \"from bokeh.resources import INLINE\\n\"+\n",
       "     \"output_notebook(resources=INLINE)\\n\"+\n",
       "     \"</code>\\n\"+\n",
       "     \"</div>\"}};\n",
       "\n",
       "  function display_loaded() {\n",
       "    var el = document.getElementById(\"1001\");\n",
       "    if (el != null) {\n",
       "      el.textContent = \"BokehJS is loading...\";\n",
       "    }\n",
       "    if (root.Bokeh !== undefined) {\n",
       "      if (el != null) {\n",
       "        el.textContent = \"BokehJS \" + root.Bokeh.version + \" successfully loaded.\";\n",
       "      }\n",
       "    } else if (Date.now() < root._bokeh_timeout) {\n",
       "      setTimeout(display_loaded, 100)\n",
       "    }\n",
       "  }\n",
       "\n",
       "\n",
       "  function run_callbacks() {\n",
       "    try {\n",
       "      root._bokeh_onload_callbacks.forEach(function(callback) {\n",
       "        if (callback != null)\n",
       "          callback();\n",
       "      });\n",
       "    } finally {\n",
       "      delete root._bokeh_onload_callbacks\n",
       "    }\n",
       "    console.debug(\"Bokeh: all callbacks have finished\");\n",
       "  }\n",
       "\n",
       "  function load_libs(css_urls, js_urls, callback) {\n",
       "    if (css_urls == null) css_urls = [];\n",
       "    if (js_urls == null) js_urls = [];\n",
       "\n",
       "    root._bokeh_onload_callbacks.push(callback);\n",
       "    if (root._bokeh_is_loading > 0) {\n",
       "      console.debug(\"Bokeh: BokehJS is being loaded, scheduling callback at\", now());\n",
       "      return null;\n",
       "    }\n",
       "    if (js_urls == null || js_urls.length === 0) {\n",
       "      run_callbacks();\n",
       "      return null;\n",
       "    }\n",
       "    console.debug(\"Bokeh: BokehJS not loaded, scheduling load and callback at\", now());\n",
       "    root._bokeh_is_loading = css_urls.length + js_urls.length;\n",
       "\n",
       "    function on_load() {\n",
       "      root._bokeh_is_loading--;\n",
       "      if (root._bokeh_is_loading === 0) {\n",
       "        console.debug(\"Bokeh: all BokehJS libraries/stylesheets loaded\");\n",
       "        run_callbacks()\n",
       "      }\n",
       "    }\n",
       "\n",
       "    function on_error() {\n",
       "      console.error(\"failed to load \" + url);\n",
       "    }\n",
       "\n",
       "    for (var i = 0; i < css_urls.length; i++) {\n",
       "      var url = css_urls[i];\n",
       "      const element = document.createElement(\"link\");\n",
       "      element.onload = on_load;\n",
       "      element.onerror = on_error;\n",
       "      element.rel = \"stylesheet\";\n",
       "      element.type = \"text/css\";\n",
       "      element.href = url;\n",
       "      console.debug(\"Bokeh: injecting link tag for BokehJS stylesheet: \", url);\n",
       "      document.body.appendChild(element);\n",
       "    }\n",
       "\n",
       "    for (var i = 0; i < js_urls.length; i++) {\n",
       "      var url = js_urls[i];\n",
       "      var element = document.createElement('script');\n",
       "      element.onload = on_load;\n",
       "      element.onerror = on_error;\n",
       "      element.async = false;\n",
       "      element.src = url;\n",
       "      console.debug(\"Bokeh: injecting script tag for BokehJS library: \", url);\n",
       "      document.head.appendChild(element);\n",
       "    }\n",
       "  };var element = document.getElementById(\"1001\");\n",
       "  if (element == null) {\n",
       "    console.error(\"Bokeh: ERROR: autoload.js configured with elementid '1001' but no matching script tag was found. \")\n",
       "    return false;\n",
       "  }\n",
       "\n",
       "  function inject_raw_css(css) {\n",
       "    const element = document.createElement(\"style\");\n",
       "    element.appendChild(document.createTextNode(css));\n",
       "    document.body.appendChild(element);\n",
       "  }\n",
       "\n",
       "  \n",
       "  var js_urls = [\"https://cdn.pydata.org/bokeh/release/bokeh-1.4.0.min.js\", \"https://cdn.pydata.org/bokeh/release/bokeh-widgets-1.4.0.min.js\", \"https://cdn.pydata.org/bokeh/release/bokeh-tables-1.4.0.min.js\", \"https://cdn.pydata.org/bokeh/release/bokeh-gl-1.4.0.min.js\"];\n",
       "  var css_urls = [];\n",
       "  \n",
       "\n",
       "  var inline_js = [\n",
       "    function(Bokeh) {\n",
       "      Bokeh.set_log_level(\"info\");\n",
       "    },\n",
       "    function(Bokeh) {\n",
       "    \n",
       "    \n",
       "    }\n",
       "  ];\n",
       "\n",
       "  function run_inline_js() {\n",
       "    \n",
       "    if (root.Bokeh !== undefined || force === true) {\n",
       "      \n",
       "    for (var i = 0; i < inline_js.length; i++) {\n",
       "      inline_js[i].call(root, root.Bokeh);\n",
       "    }\n",
       "    if (force === true) {\n",
       "        display_loaded();\n",
       "      }} else if (Date.now() < root._bokeh_timeout) {\n",
       "      setTimeout(run_inline_js, 100);\n",
       "    } else if (!root._bokeh_failed_load) {\n",
       "      console.log(\"Bokeh: BokehJS failed to load within specified timeout.\");\n",
       "      root._bokeh_failed_load = true;\n",
       "    } else if (force !== true) {\n",
       "      var cell = $(document.getElementById(\"1001\")).parents('.cell').data().cell;\n",
       "      cell.output_area.append_execute_result(NB_LOAD_WARNING)\n",
       "    }\n",
       "\n",
       "  }\n",
       "\n",
       "  if (root._bokeh_is_loading === 0) {\n",
       "    console.debug(\"Bokeh: BokehJS loaded, going straight to plotting\");\n",
       "    run_inline_js();\n",
       "  } else {\n",
       "    load_libs(css_urls, js_urls, function() {\n",
       "      console.debug(\"Bokeh: BokehJS plotting callback run at\", now());\n",
       "      run_inline_js();\n",
       "    });\n",
       "  }\n",
       "}(window));"
      ],
      "application/vnd.bokehjs_load.v0+json": "\n(function(root) {\n  function now() {\n    return new Date();\n  }\n\n  var force = true;\n\n  if (typeof root._bokeh_onload_callbacks === \"undefined\" || force === true) {\n    root._bokeh_onload_callbacks = [];\n    root._bokeh_is_loading = undefined;\n  }\n\n  \n\n  \n  if (typeof (root._bokeh_timeout) === \"undefined\" || force === true) {\n    root._bokeh_timeout = Date.now() + 5000;\n    root._bokeh_failed_load = false;\n  }\n\n  var NB_LOAD_WARNING = {'data': {'text/html':\n     \"<div style='background-color: #fdd'>\\n\"+\n     \"<p>\\n\"+\n     \"BokehJS does not appear to have successfully loaded. If loading BokehJS from CDN, this \\n\"+\n     \"may be due to a slow or bad network connection. Possible fixes:\\n\"+\n     \"</p>\\n\"+\n     \"<ul>\\n\"+\n     \"<li>re-rerun `output_notebook()` to attempt to load from CDN again, or</li>\\n\"+\n     \"<li>use INLINE resources instead, as so:</li>\\n\"+\n     \"</ul>\\n\"+\n     \"<code>\\n\"+\n     \"from bokeh.resources import INLINE\\n\"+\n     \"output_notebook(resources=INLINE)\\n\"+\n     \"</code>\\n\"+\n     \"</div>\"}};\n\n  function display_loaded() {\n    var el = document.getElementById(\"1001\");\n    if (el != null) {\n      el.textContent = \"BokehJS is loading...\";\n    }\n    if (root.Bokeh !== undefined) {\n      if (el != null) {\n        el.textContent = \"BokehJS \" + root.Bokeh.version + \" successfully loaded.\";\n      }\n    } else if (Date.now() < root._bokeh_timeout) {\n      setTimeout(display_loaded, 100)\n    }\n  }\n\n\n  function run_callbacks() {\n    try {\n      root._bokeh_onload_callbacks.forEach(function(callback) {\n        if (callback != null)\n          callback();\n      });\n    } finally {\n      delete root._bokeh_onload_callbacks\n    }\n    console.debug(\"Bokeh: all callbacks have finished\");\n  }\n\n  function load_libs(css_urls, js_urls, callback) {\n    if (css_urls == null) css_urls = [];\n    if (js_urls == null) js_urls = [];\n\n    root._bokeh_onload_callbacks.push(callback);\n    if (root._bokeh_is_loading > 0) {\n      console.debug(\"Bokeh: BokehJS is being loaded, scheduling callback at\", now());\n      return null;\n    }\n    if (js_urls == null || js_urls.length === 0) {\n      run_callbacks();\n      return null;\n    }\n    console.debug(\"Bokeh: BokehJS not loaded, scheduling load and callback at\", now());\n    root._bokeh_is_loading = css_urls.length + js_urls.length;\n\n    function on_load() {\n      root._bokeh_is_loading--;\n      if (root._bokeh_is_loading === 0) {\n        console.debug(\"Bokeh: all BokehJS libraries/stylesheets loaded\");\n        run_callbacks()\n      }\n    }\n\n    function on_error() {\n      console.error(\"failed to load \" + url);\n    }\n\n    for (var i = 0; i < css_urls.length; i++) {\n      var url = css_urls[i];\n      const element = document.createElement(\"link\");\n      element.onload = on_load;\n      element.onerror = on_error;\n      element.rel = \"stylesheet\";\n      element.type = \"text/css\";\n      element.href = url;\n      console.debug(\"Bokeh: injecting link tag for BokehJS stylesheet: \", url);\n      document.body.appendChild(element);\n    }\n\n    for (var i = 0; i < js_urls.length; i++) {\n      var url = js_urls[i];\n      var element = document.createElement('script');\n      element.onload = on_load;\n      element.onerror = on_error;\n      element.async = false;\n      element.src = url;\n      console.debug(\"Bokeh: injecting script tag for BokehJS library: \", url);\n      document.head.appendChild(element);\n    }\n  };var element = document.getElementById(\"1001\");\n  if (element == null) {\n    console.error(\"Bokeh: ERROR: autoload.js configured with elementid '1001' but no matching script tag was found. \")\n    return false;\n  }\n\n  function inject_raw_css(css) {\n    const element = document.createElement(\"style\");\n    element.appendChild(document.createTextNode(css));\n    document.body.appendChild(element);\n  }\n\n  \n  var js_urls = [\"https://cdn.pydata.org/bokeh/release/bokeh-1.4.0.min.js\", \"https://cdn.pydata.org/bokeh/release/bokeh-widgets-1.4.0.min.js\", \"https://cdn.pydata.org/bokeh/release/bokeh-tables-1.4.0.min.js\", \"https://cdn.pydata.org/bokeh/release/bokeh-gl-1.4.0.min.js\"];\n  var css_urls = [];\n  \n\n  var inline_js = [\n    function(Bokeh) {\n      Bokeh.set_log_level(\"info\");\n    },\n    function(Bokeh) {\n    \n    \n    }\n  ];\n\n  function run_inline_js() {\n    \n    if (root.Bokeh !== undefined || force === true) {\n      \n    for (var i = 0; i < inline_js.length; i++) {\n      inline_js[i].call(root, root.Bokeh);\n    }\n    if (force === true) {\n        display_loaded();\n      }} else if (Date.now() < root._bokeh_timeout) {\n      setTimeout(run_inline_js, 100);\n    } else if (!root._bokeh_failed_load) {\n      console.log(\"Bokeh: BokehJS failed to load within specified timeout.\");\n      root._bokeh_failed_load = true;\n    } else if (force !== true) {\n      var cell = $(document.getElementById(\"1001\")).parents('.cell').data().cell;\n      cell.output_area.append_execute_result(NB_LOAD_WARNING)\n    }\n\n  }\n\n  if (root._bokeh_is_loading === 0) {\n    console.debug(\"Bokeh: BokehJS loaded, going straight to plotting\");\n    run_inline_js();\n  } else {\n    load_libs(css_urls, js_urls, function() {\n      console.debug(\"Bokeh: BokehJS plotting callback run at\", now());\n      run_inline_js();\n    });\n  }\n}(window));"
     },
     "metadata": {},
     "output_type": "display_data"
    }
   ],
   "source": [
    "output_notebook()"
   ]
  },
  {
   "cell_type": "code",
   "execution_count": 4,
   "metadata": {
    "Collapsed": "false",
    "ExecuteTime": {
     "end_time": "2020-03-16T19:04:25.265171Z",
     "start_time": "2020-03-16T19:04:24.889058Z"
    }
   },
   "outputs": [
    {
     "data": {
      "text/html": [
       "\n",
       "\n",
       "\n",
       "\n",
       "\n",
       "\n",
       "  <div class=\"bk-root\" id=\"44e5b2f4-8de8-4196-906c-6465e765d7e6\" data-root-id=\"1062\"></div>\n"
      ]
     },
     "metadata": {},
     "output_type": "display_data"
    },
    {
     "data": {
      "application/javascript": [
       "(function(root) {\n",
       "  function embed_document(root) {\n",
       "    \n",
       "  var docs_json = {\"d1ea1d61-4d31-4c09-b809-d959133720ca\":{\"roots\":{\"references\":[{\"attributes\":{\"children\":[{\"id\":\"1003\",\"subtype\":\"Figure\",\"type\":\"Plot\"},{\"id\":\"1033\",\"subtype\":\"Figure\",\"type\":\"Plot\"}]},\"id\":\"1062\",\"type\":\"Row\"},{\"attributes\":{\"callback\":null,\"data\":{\"x\":[],\"y\":[]},\"selected\":{\"id\":\"1077\",\"type\":\"Selection\"},\"selection_policy\":{\"id\":\"1076\",\"type\":\"UnionRenderers\"}},\"id\":\"1032\",\"type\":\"ColumnDataSource\"},{\"attributes\":{\"callback\":null},\"id\":\"1008\",\"type\":\"DataRange1d\"},{\"attributes\":{},\"id\":\"1015\",\"type\":\"BasicTicker\"},{\"attributes\":{},\"id\":\"1010\",\"type\":\"LinearScale\"},{\"attributes\":{\"ticker\":{\"id\":\"1015\",\"type\":\"BasicTicker\"}},\"id\":\"1018\",\"type\":\"Grid\"},{\"attributes\":{\"formatter\":{\"id\":\"1066\",\"type\":\"BasicTickFormatter\"},\"ticker\":{\"id\":\"1020\",\"type\":\"BasicTicker\"}},\"id\":\"1019\",\"type\":\"LinearAxis\"},{\"attributes\":{},\"id\":\"1020\",\"type\":\"BasicTicker\"},{\"attributes\":{\"dimension\":1,\"ticker\":{\"id\":\"1020\",\"type\":\"BasicTicker\"}},\"id\":\"1023\",\"type\":\"Grid\"},{\"attributes\":{\"data_source\":{\"id\":\"1002\",\"type\":\"ColumnDataSource\"},\"glyph\":{\"id\":\"1028\",\"type\":\"Circle\"},\"hover_glyph\":null,\"muted_glyph\":null,\"nonselection_glyph\":{\"id\":\"1029\",\"type\":\"Circle\"},\"selection_glyph\":null,\"view\":{\"id\":\"1031\",\"type\":\"CDSView\"}},\"id\":\"1030\",\"type\":\"GlyphRenderer\"},{\"attributes\":{\"source\":{\"id\":\"1032\",\"type\":\"ColumnDataSource\"}},\"id\":\"1059\",\"type\":\"CDSView\"},{\"attributes\":{},\"id\":\"1074\",\"type\":\"UnionRenderers\"},{\"attributes\":{\"active_drag\":\"auto\",\"active_inspect\":\"auto\",\"active_multi\":null,\"active_scroll\":\"auto\",\"active_tap\":\"auto\",\"tools\":[{\"id\":\"1024\",\"type\":\"LassoSelectTool\"}]},\"id\":\"1025\",\"type\":\"Toolbar\"},{\"attributes\":{\"callback\":null,\"overlay\":{\"id\":\"1073\",\"type\":\"PolyAnnotation\"}},\"id\":\"1024\",\"type\":\"LassoSelectTool\"},{\"attributes\":{},\"id\":\"1070\",\"type\":\"BasicTickFormatter\"},{\"attributes\":{\"fill_alpha\":{\"value\":0.1},\"fill_color\":{\"value\":\"#1f77b4\"},\"line_alpha\":{\"value\":0.1},\"line_color\":{\"value\":\"#1f77b4\"},\"x\":{\"field\":\"x\"},\"y\":{\"field\":\"y\"}},\"id\":\"1029\",\"type\":\"Circle\"},{\"attributes\":{},\"id\":\"1072\",\"type\":\"BasicTickFormatter\"},{\"attributes\":{\"js_property_callbacks\":{\"change:indices\":[{\"id\":\"1061\",\"type\":\"CustomJS\"}]}},\"id\":\"1060\",\"type\":\"Selection\"},{\"attributes\":{\"callback\":null},\"id\":\"1038\",\"type\":\"Range1d\"},{\"attributes\":{\"data_source\":{\"id\":\"1032\",\"type\":\"ColumnDataSource\"},\"glyph\":{\"id\":\"1056\",\"type\":\"Circle\"},\"hover_glyph\":null,\"muted_glyph\":null,\"nonselection_glyph\":{\"id\":\"1057\",\"type\":\"Circle\"},\"selection_glyph\":null,\"view\":{\"id\":\"1059\",\"type\":\"CDSView\"}},\"id\":\"1058\",\"type\":\"GlyphRenderer\"},{\"attributes\":{\"source\":{\"id\":\"1002\",\"type\":\"ColumnDataSource\"}},\"id\":\"1031\",\"type\":\"CDSView\"},{\"attributes\":{\"text\":\"Watch Here\"},\"id\":\"1034\",\"type\":\"Title\"},{\"attributes\":{\"args\":{\"s1\":{\"id\":\"1002\",\"type\":\"ColumnDataSource\"},\"s2\":{\"id\":\"1032\",\"type\":\"ColumnDataSource\"}},\"code\":\"\\n        var inds = cb_obj.indices;\\n        var d1 = s1.data;\\n        var d2 = s2.data;\\n        d2['x'] = []\\n        d2['y'] = []\\n        for (var i = 0; i < inds.length; i++) {\\n            d2['x'].push(d1['x'][inds[i]])\\n            d2['y'].push(d1['y'][inds[i]])\\n        }\\n        s2.change.emit();\\n    \"},\"id\":\"1061\",\"type\":\"CustomJS\"},{\"attributes\":{\"fill_alpha\":{\"value\":0.6},\"fill_color\":{\"value\":\"#1f77b4\"},\"line_alpha\":{\"value\":0.6},\"line_color\":{\"value\":\"#1f77b4\"},\"x\":{\"field\":\"x\"},\"y\":{\"field\":\"y\"}},\"id\":\"1056\",\"type\":\"Circle\"},{\"attributes\":{\"callback\":null},\"id\":\"1036\",\"type\":\"Range1d\"},{\"attributes\":{\"formatter\":{\"id\":\"1072\",\"type\":\"BasicTickFormatter\"},\"ticker\":{\"id\":\"1045\",\"type\":\"BasicTicker\"}},\"id\":\"1044\",\"type\":\"LinearAxis\"},{\"attributes\":{},\"id\":\"1045\",\"type\":\"BasicTicker\"},{\"attributes\":{},\"id\":\"1076\",\"type\":\"UnionRenderers\"},{\"attributes\":{},\"id\":\"1042\",\"type\":\"LinearScale\"},{\"attributes\":{\"below\":[{\"id\":\"1044\",\"type\":\"LinearAxis\"}],\"center\":[{\"id\":\"1048\",\"type\":\"Grid\"},{\"id\":\"1053\",\"type\":\"Grid\"}],\"left\":[{\"id\":\"1049\",\"type\":\"LinearAxis\"}],\"plot_height\":400,\"plot_width\":400,\"renderers\":[{\"id\":\"1058\",\"type\":\"GlyphRenderer\"}],\"title\":{\"id\":\"1034\",\"type\":\"Title\"},\"toolbar\":{\"id\":\"1054\",\"type\":\"Toolbar\"},\"x_range\":{\"id\":\"1036\",\"type\":\"Range1d\"},\"x_scale\":{\"id\":\"1040\",\"type\":\"LinearScale\"},\"y_range\":{\"id\":\"1038\",\"type\":\"Range1d\"},\"y_scale\":{\"id\":\"1042\",\"type\":\"LinearScale\"}},\"id\":\"1033\",\"subtype\":\"Figure\",\"type\":\"Plot\"},{\"attributes\":{},\"id\":\"1066\",\"type\":\"BasicTickFormatter\"},{\"attributes\":{},\"id\":\"1040\",\"type\":\"LinearScale\"},{\"attributes\":{},\"id\":\"1077\",\"type\":\"Selection\"},{\"attributes\":{\"ticker\":{\"id\":\"1045\",\"type\":\"BasicTicker\"}},\"id\":\"1048\",\"type\":\"Grid\"},{\"attributes\":{\"fill_alpha\":{\"value\":0.6},\"fill_color\":{\"value\":\"#1f77b4\"},\"line_alpha\":{\"value\":0.6},\"line_color\":{\"value\":\"#1f77b4\"},\"x\":{\"field\":\"x\"},\"y\":{\"field\":\"y\"}},\"id\":\"1028\",\"type\":\"Circle\"},{\"attributes\":{},\"id\":\"1068\",\"type\":\"BasicTickFormatter\"},{\"attributes\":{\"formatter\":{\"id\":\"1070\",\"type\":\"BasicTickFormatter\"},\"ticker\":{\"id\":\"1050\",\"type\":\"BasicTicker\"}},\"id\":\"1049\",\"type\":\"LinearAxis\"},{\"attributes\":{\"fill_alpha\":{\"value\":0.5},\"fill_color\":{\"value\":\"lightgrey\"},\"level\":\"overlay\",\"line_alpha\":{\"value\":1.0},\"line_color\":{\"value\":\"black\"},\"line_dash\":[4,4],\"line_width\":{\"value\":2},\"xs_units\":\"screen\",\"ys_units\":\"screen\"},\"id\":\"1073\",\"type\":\"PolyAnnotation\"},{\"attributes\":{},\"id\":\"1050\",\"type\":\"BasicTicker\"},{\"attributes\":{\"callback\":null,\"data\":{\"x\":[0.9607257047779814,0.688648267975109,0.03650563081483127,0.7647746895231784,0.9337423399354331,0.06766305662241756,0.791290686876337,0.7836320581926712,0.4556930932127936,0.1312680827527518,0.8709926464264702,0.46261183314313126,0.579972927941498,0.0796107601780075,0.24776850047654597,0.06981031597860354,0.31024151432177094,0.1939418939838502,0.9222675818551417,0.32459669850097117,0.434217563674546,0.7145023202733443,0.5903049368678372,0.5523246083066695,0.2569192956802284,0.9628124102307404,0.14247104705794855,0.0742117996936621,0.5414152484694517,0.8913426548634256,0.5932727912207686,0.09616090107970587,0.8131620445005743,0.9005880230329549,0.6529961187232132,0.4871583194787106,0.15255136925792134,0.6461959196742794,0.07791331274088042,0.3439227437968788,0.18785808174025387,0.7539085008950259,0.157209144152481,0.6590117058855748,0.30438893008549905,0.2350159728543787,0.8306556070921378,0.7744287254202632,0.35432745020731826,0.4868617579492568,0.7742541818264272,0.574997217064735,0.44536096060881913,0.07867584965289465,0.7148121848683474,0.741967141386086,0.15025623038619185,0.2850364720045844,0.3921233303015089,0.4813354364044362,0.8690699029490653,0.41173885807175925,0.4245100058297374,0.3073066064502893,0.250222944612818,0.41456516518288866,0.1915151665383127,0.07572789235862454,0.7157675803264789,0.3125561006111086,0.5738380807019524,0.807872795946586,0.9340985133840636,0.5887012832093,0.7879606959164543,0.15509415504920765,0.7004226949827131,0.6256144249639483,0.1944125929922368,0.5108265218522119,0.03870863309294914,0.10403455422784591,0.7041044906272846,0.12337859174885246,0.4609433735785744,0.14770240227392628,0.6446624671479846,0.5749870459796323,0.25997254524982216,0.3263078186603109,0.8653732501529567,0.45846359355304234,0.36246901487796934,0.748730316218061,0.8417664839661249,0.7961444557756678,0.5968635541754473,0.389916385383696,0.9015026206067822,0.2727575724406879,0.8188109996747464,0.873792372891827,0.6879846707936915,0.8521722482645991,0.0036408986888801786,0.29038637398196565,0.35839063419292694,0.7436689148462835,0.7733973929752818,0.8444369611217623,0.03816498941071911,0.6953809245233002,0.19447893589608567,0.8368129856786953,0.9322522050063328,0.0011228513682605135,0.5687418043582568,0.0563763279596734,0.250017894558457,0.12169510844832943,0.12106927660415223,0.7848738880660933,0.09399581185185091,0.9049689007870143,0.7581053256165411,0.9104521441809036,0.8996939183010298,0.5212039646055197,0.9441798368540605,0.6931113743895337,0.10858186804191905,0.7925362390981732,0.7948914591951751,0.9535750100986556,0.3637485209737714,0.6925107947662478,0.034428053034258554,0.10600986493052511,0.6785664053743982,0.7675793313024589,0.7289132959021128,0.7150403735870138,0.2875265523380328,0.38279906025107036,0.5831573326474531,0.11548056910496851,0.1603339564633789,0.1299914100577878,0.9281603686467895,0.21104851066018349,0.1560151559070282,0.2685015734510967,0.2550077149853638,0.5479781908448099,0.2674892768801118,0.25965315899240804,0.3387835348121052,0.7649451789395602,0.6016030155366658,0.4442860313009054,0.5720998767157784,0.3334334148895223,0.43032010673439547,0.9175811100061448,0.027688265657226485,0.27390993959107646,0.031202881085015566,0.9761556439447089,0.3393240052927047,0.2711965487935942,0.3693730203694582,0.8802380543180187,0.3703096326519969,0.8473564449473893,0.21613619995219602,0.8087466699426153,0.6244347642830714,0.3733893926357271,0.8363228747299715,0.7443818900405387,0.05947018815382854,0.7125597049352637,0.22173431533586063,0.8907027446233905,0.04848511222046936,0.723915975626683,0.6688889960487058,0.9452168953366722,0.8922807816618585,0.8729991672124792,0.033797843851255505,0.03926732939338806,0.2707990073250558,0.46023737073356685,0.04410047349181545,0.35257804604552145,0.6729889450984688,0.5453963289045047,0.9479133911346401,0.045228337421229114,0.9484760973337082,0.01199296704568864,0.30190559368716097,0.9333855275508924,0.20865725379581923,0.4835506581960072,0.585960885376603,0.00669335907738644,0.39993070482269233,0.8074804289407287,0.10717876537277138,0.883007016363921,0.21203719168394985,0.6907239638711351,0.31347959393371083,0.8864566005103801,0.8766932059426001,0.04155032692001415,0.8998083665869604,0.1715877199977418,0.3099195792944419,0.0034813105067570405,0.10520355735690035,0.4716948033566697,0.18409730535065738,0.12547812191225394,0.9873346473806156,0.5437654319914809,0.1770077353388011,0.026242881071527502,0.40382916116459,0.4310310514572431,0.5773099418191731,0.30494974706467337,0.47609850288503286,0.4435662946522584,0.25074695296396377,0.5959640758302539,0.852372369702722,0.1559719132906754,0.5384226274659116,0.46769261711136867,0.10723881378202949,0.22404926902067623,0.9533670744310401,0.6717785072004321,0.21096530989673667,0.3366950315196494,0.08005553645614927,0.11086685511966277,0.7860045152921521,0.7359641541955964,0.470754633388644,0.9216007412505073,0.6888603953462894,0.7897726426626238,0.3481084236858796,0.04047904017864001,0.9688809153973929,0.3523903213536882,0.827141628648835,0.37198229063031274,0.0465836743178476,0.712720190580174,0.35343371581749483,0.05868854936969892,0.27681698199297256,0.8795515887558794,0.7617471223548185,0.9556579846495432,0.6704905704068465,0.300923761736797,0.37075951138484886,0.7403621719406732,0.6953429735804185,0.9999110563586312,0.36967135393437767,0.2725557365380208,0.7743770340530158,0.016737518958190867,0.19562860667768267,0.6987387990022488,0.09559564979591151,0.4205621884350823,0.7791140668477264,0.2684578541025737,0.4169881173865039,0.06348802029534906,0.010885806913446316,0.41635935560349,0.47676462732986624,0.43606910731209125,0.31618948455936113,0.0990954229417389,0.9250852292883437,0.7041182569009053,0.3886361529850274,0.1433623865545286,0.8830575537812796,0.6192254834646147,0.7575931890907165,0.3198742998327415,0.47116002927636336,0.6117349691412539,0.24598912171919707,0.01771178315548383,0.41514062634512783,0.5825881407095905,0.8424165425603725,0.38126848358464516,0.06520935607824407,0.7039943219550865,0.9769762030709612,0.37296865189633566,0.5522574089587656,0.01571530004457855,0.7865745377176849,0.1110019156587092,0.9024065647643048,0.7913712669979479,0.8865328139985155,0.4372153025546238,0.07957053591936236,0.7604935482315162,0.7409990443126766,0.8008350628517524,0.4037391133691778,0.04678251294668967,0.6600549511852507,0.18199578466084043,0.8785786625339068,0.6778988555062478,0.6016276300473543,0.24382687978230733,0.4243911844981363,0.5489767840013224,0.9422908034490063,0.24136316328273433,0.2139120234545523,0.18970343453895144,0.8378698687712525,0.7736279999019408,0.45171915028150433,0.051307365055154985,0.43826204703880434,0.7296357676739672,0.5868877434936051,0.15655985839593456,0.3496698943579658,0.1998522263440784,0.08944482836668011,0.568162494742518,0.051072973417444434,0.25146824264277545,0.2368584815257544,0.6029675325464013,0.1427053533032605,0.24944750005242167,0.755441855511506,0.9057579374053427,0.7824927713140106,0.9215928391721077,0.5902940884974051,0.9660130512007403,0.856284153858839,0.732192751957793,0.3011622998965684,0.8384218966324868,0.9288360887304934,0.04452668741719845,0.30617681464965363,0.9987870567655537,0.9600134733047108,0.5431988664810622,0.8171584154378968,0.8792395916201993,0.6504147805576442,0.8650137664644004,0.2480132407943152,0.515133380709466,0.6022662230342579,0.9136851760505575,0.765892540127324,0.20304890906601358,0.43218610352308795,0.719593081899467,0.18780198900458822,0.7826281512633751,0.4733851978936884,0.7540756642630039,0.5052497138202765,0.8522751921844519,0.19088327418159823,0.6077207291014503,0.30683913733714274,0.48615682034066965,0.2605084065791069,0.8142084880404976,0.6848245341503932,0.8218919380820848,0.36454401066718345,0.14589920225202824,0.021515713406648262,0.4962098717049812,0.049377999578586684,0.43201350693512375,0.005141161098416891,0.2516521148892997,0.05988713444667226,0.15552887602945265,0.36502631538206964,0.5058747479386612,0.7586860472457796,0.7082459727412235,0.3793594741963767,0.46393553047703096,0.170257130326811,0.8950487752160918,0.08553919544999977,0.8428389128576864,0.30781790320892144,0.3731807008740595,0.4994377287805897,0.043048656365795135,0.06755435447349067,0.3375144347628004,0.9411030599560589,0.861147642052383,0.15052015268365704,0.173890941864838,0.6504118392583745,0.016485126502423286,0.13703776363731135,0.5612933722114583,0.20493318507830305,0.37464657782711575,0.30859110789391164,0.08520967093225917,0.2650163353920959,0.8989093364330282,0.04392483206803299,0.21058485825527973,0.234741292940849,0.7043237795156481,0.5914788700667193,0.27229560478202175,0.34740889588509216,0.23177123028072222,0.9460635442273734,0.7808228572926758,0.03629958963673774,0.6277459621199468,0.5722762633956053,0.39150779294601545,0.8873162215318269,0.7845656205633303,0.05783651891114694,0.8455302618605793,0.8454033233751617,0.9193676654949597,0.3729667093718445,0.6111003933620375,0.20270911736572816,0.35123215671439756,0.44328121803987786,0.9596512914698604,0.641179067768322,0.6721143465724835,0.9644210382197553,0.5780777480084248,0.821212700110402,0.24442290569067526,0.5473102080754021,0.6918507477142646,0.38949569205021084,0.23961339641023094,0.35748616614970685,0.5767308154716958,0.721353003801756,0.8502337141249617,0.15831215959102907,0.4928528711205017,0.748890688642427,0.39944139749215124,0.31297342387134763,0.6838971359686399,0.08807363613014585,0.4474713784287244,0.6073580879060211,0.5478721061908904,0.6320942448294011,0.19856585089612677,0.1416488056592422,0.6404142492902847,0.36861892792902506,0.6527659626985653,0.9869539874208195,0.9534342483458342,0.03439215462909051,0.9192401089472106],\"y\":[0.008145407724549969,0.11599864301340856,0.8988503460826323,0.7837379459925405,0.2681383184243006,0.9603466291547572,0.10280133270852054,0.00443862009706808,0.3174652165197991,0.10394122601883449,0.2900792362163873,0.7557326628311642,0.5134174617714419,0.7056174341144913,0.14325554122138884,0.5507634237629309,0.6474088566688856,0.7940303920971294,0.8911522564678324,0.57968304857196,0.5644743093693024,0.1528844416189613,0.39742672324307704,0.7472103713247089,0.33497128403915577,0.9637571233080526,0.5143388035511082,0.5005403456923037,0.753400269693858,0.5986931599664767,0.6659576729118405,0.8234189602408534,0.7480665397168141,0.5476803660811302,0.39154073143187507,0.2963763800563345,0.5851315912194889,0.251371483369376,0.40302830049226734,0.7509439055462499,0.1513657602741445,0.5157795627053342,0.2726418589828705,0.6314868377394632,0.9896037643897878,0.9344600221384763,0.39486354186984696,0.2966438566275781,0.5020931261379569,0.9403773988031825,0.36296458961387823,0.13316317065719596,0.24278372406470472,0.9202546075864254,0.7828530391324785,0.8110816150042196,0.15067424579692557,0.7627765049988509,0.9108172600442771,0.47443644125215356,0.14885572377709533,0.6927285764362164,0.3293414942735594,0.13309733258377465,0.6458218935586227,0.6803328045654925,0.17743579768141615,0.9325658066883229,0.9603691690607875,0.7176354951440198,0.5231257760080177,0.32165441393715377,0.41751435281020544,0.46398120924550934,0.8269245171536812,0.04097968216767012,0.9286496017167796,0.9213439773859531,0.363606697372182,0.2259534618255774,0.632475940263562,0.25860467360626305,0.5184402646494571,0.6438135902255395,0.7577300694057651,0.3807588740907172,0.6387861770113248,0.2657079130926786,0.24433183567134042,0.23026112353438466,0.006632872873936435,0.11432528006827769,0.4882625755683584,0.2777412332204109,0.5777421919956014,0.013684204964326319,0.07046758197943248,0.6773533202985338,0.36291590229851345,0.9927617365521175,0.4282876604691864,0.0008309138167120755,0.37905657467052656,0.9695464398565239,0.3975096075874489,0.5859526925004905,0.17968575819442045,0.24109168143639725,0.058046819821349516,0.14049451443175132,0.011686092640422419,0.7351940749841798,0.41217776612686274,0.5061172550577221,0.013693803743937139,0.6800238007895993,0.17359716965656335,0.06155174974681188,0.2548958089481087,0.23145849225940962,0.9436770274913894,0.5008597265659845,0.4621430883153408,0.987095397374208,0.22474800137559292,0.30556974762580036,0.9095119094616817,0.26314001402386833,0.2867278742019773,0.12237620280898132,0.8798392008252346,0.2435459299643562,0.5347007741299241,0.07544562495681195,0.1831303797899333,0.7697051558550178,0.08667373392526179,0.3115334760185938,0.17382626115476052,0.15131253688341928,0.3463698838137663,0.6524841996190236,0.6799419450482682,0.35902527143868657,0.22675307509865872,0.8571979410803037,0.27790407325672395,0.08045935974531415,0.6348433237071437,0.6241409987264844,0.6385555310285322,0.3795912533141318,0.3711366223163093,0.8655402711250877,0.07638638361669492,0.5942355524520655,0.5551118418448666,0.5460401785237562,0.4735925236460652,0.5515890386785377,0.7876839343762826,0.8603805444485221,0.46726762465220895,0.38573563303977343,0.36480113841135,0.7255746596564088,0.5913561768220275,0.3620817532507319,0.2814743446106537,0.3085242435807177,0.5005674262813627,0.22895150970771805,0.7755953665562959,0.6325849148296677,0.8877283030333347,0.464043426907329,0.4305104006429693,0.32141977039523795,0.363128257963381,0.2640841384975894,0.15773565774838483,0.25134329382214293,0.8803705015727858,0.1080742498838797,0.6557468021890898,0.425194942894214,0.31262491083537913,0.7465590169493341,0.8320154023538133,0.20486282573744297,0.8871857972647605,0.0990732750533081,0.4780267479171745,0.5158279465536643,0.718196978601108,0.4858955909007372,0.5449633136931377,0.5844058703115363,0.3880719392314085,0.9878990031379461,0.4856688449252662,0.9271898837559929,0.6863411188246662,0.10359215168285618,0.44746490765636315,0.5274059335021148,0.8087242944819145,0.5226712958770887,0.4960774564667937,0.7600387499898783,0.9591814734418237,0.045920861325658535,0.9964190783405469,0.22098137979154975,0.8372453134200234,0.3637284891449204,0.23417412040541785,0.5981631366394516,0.6656877159066116,0.8398736158446191,0.9138431307191612,0.050841852075086735,0.7097237306830325,0.26934509536578477,0.6573211354127044,0.27885236311953754,0.3999870294341613,0.5666673835507607,0.7937853108404254,0.6172305496949008,0.9237726863888573,0.3193686688196741,0.5717669082175387,0.37255073342258005,0.8502784708294929,0.29208720220891216,0.20705764327744336,0.5699390620719369,0.3861451216846411,0.8155908923989844,0.9212797038123826,0.17025754420732075,0.15047686338612365,0.31685934440265273,0.0484568172629245,0.22851422853884285,0.7148328790793474,0.6150735780157187,0.7470721601129791,0.9992889291892327,0.7797283351055415,0.9795286584613218,0.4468163060395367,0.6417641618012636,0.06500087129883292,0.5319486750561716,0.8327427610619235,0.780998938986549,0.5998284433537017,0.18415057214772101,0.7419486146742652,0.33600536642397616,0.8770964915342981,0.6497153002488903,0.41196209556532304,0.5776620205949671,0.7962611629499858,0.476231680083655,0.39075961629443445,0.9147606857944683,0.9898231229780194,0.6562439011046204,0.5017944476444034,0.8829056842555703,0.10437007807360676,0.22752910194522513,0.7940067395061692,0.01005530747415495,0.681678388383998,0.5978398105491388,0.6960110119343094,0.8102449048454972,0.6008982340174026,0.3143474932707351,0.6097942331476057,0.9818352378134905,0.26202855188507734,0.2866377313557761,0.1681545658598954,0.07132006898097276,0.14062793331219858,0.8447341801411449,0.5508629275295801,0.017362777534293383,0.6419327476713048,0.11823420858098477,0.9002030108099718,0.44761041888242314,0.25189794880992256,0.5872292793453141,0.06254472021230018,0.27099475821387187,0.1283386674766197,0.33468694677940614,0.2162171156978473,0.17188981202049336,0.5436437361401825,0.8960618627050926,0.500183065899688,0.9202969975292983,0.8418966124855192,0.6406473028921353,0.44962845998811574,0.5254152044577921,0.3105271745876047,0.8570772942846571,0.8168506222086965,0.05239044838852058,0.1030325264963271,0.2776848259612916,0.10416881530123057,0.41509436508325315,0.15103295622500035,0.01747863427581431,0.39725920067649123,0.9087793766890914,0.30991071232379874,0.18699629144176877,0.5279840541593452,0.3243014019216781,0.6116074556630288,0.27337713460265056,0.5507350822343371,0.2753969869781522,0.03864831656263068,0.45692057055136603,0.644753159925099,0.9627176231110217,0.7634410300015336,0.026039429682041537,0.5930500167980666,0.19653449143661306,0.06827488916627233,0.6418167253328871,0.005726120021380066,0.4396820024447118,0.8337216206480046,0.39845599752330674,0.42622306252982545,0.15179315913504288,0.6844071750853704,0.11122315829026308,0.06656942459817206,0.5663800814146441,0.22700108099526595,0.43123707465924344,0.0576095967821777,0.40190489298936793,0.11826632909189072,0.8273970156162769,0.3648027589512408,0.7189712842736836,0.34985223817219957,0.36092640491136385,0.05466129444773815,0.12095224397443005,0.44003499415416714,0.06371089243314687,0.2552280871289382,0.23539213990030738,0.6902901288642753,0.3818103822664449,0.6034850121167288,0.23334215789380575,0.2455056959046148,0.5751311096686107,0.612615666765146,0.13494945461297225,0.9300224403424192,0.52237711316796,0.04375601370318527,0.8448575505103321,0.2007086226186101,0.4221840765931356,0.8028225881752972,0.7303970879983724,0.04590115108405435,0.5643772933689629,0.40425518971765484,0.6085161278707824,0.19690869733894223,0.5637979534587799,0.8806586599856676,0.5634211717212753,0.03641768775815735,0.9777583924383845,0.6050720987807153,0.12890548966261106,0.8697080519073211,0.04921606505146903,0.8889848691108204,0.5674151270930929,0.576878534581942,0.9277898049810175,0.7615740864237189,0.7003202973660675,0.14025753794199547,0.7581087273794328,0.7006241073420972,0.15764944404518744,0.5149583780832918,0.4331883592534258,0.3147031981011784,0.7171533124844797,0.5426433289348939,0.14234074553179077,0.8221818218236221,0.3813536006627516,0.30232036335906565,0.3618252026328054,0.15693588909935507,0.8119219889310773,0.1429989790273748,0.2748293365247274,0.7237168954044639,0.5984306052081286,0.5691730833110663,0.1551172408180973,0.7239412741000334,0.22266053243329298,0.39138820717213674,0.622929080602093,0.9815510373504319,0.7197748911111417,0.9727886820310041,0.513469845416349,0.5425393912328835,0.13788962292963658,0.27759664928673866,0.01968818334235145,0.8461258481688396,0.9207293275296001,0.8446681408069536,0.2880961614060453,0.7484126905429083,0.981028860089484,0.5246431413031386,0.31490691176134233,0.9123074711989502,0.8756284530288918,0.7708022513933851,0.09655165361027174,0.8121140514226295,0.18827264135178245,0.052682368010491976,0.9090090965410365,0.8583842143731334,0.18672244083738476,0.1515659261247092,0.00883915596876994,0.8324795406501463,0.47886672686094656,0.373888626371521,0.2568447626824508,0.8464374025613195,0.9577128823968217,0.45918906495405776,0.4156518634003247,0.2807140647995563,0.8849030477207296,0.4335614317170742,0.5643306171279162,0.28714514265699775,0.4662642315336196,0.6261043745041233,0.07010631187097704,0.5339417423048219,0.9935030931561268,0.09120310691979194,0.17686843977210676,0.18278477933166626,0.4275172297995634,0.33455738291253445,0.17380264644371102,0.6114603215584821,0.6342643446448242,0.45615777757235776,0.9964836456188478,0.5712542507439733,0.34604897893832665,0.01739854405020591,0.8850780080657727,0.54811735915319,0.4575207024006863,0.47294838914325155,0.6227332487618389,0.7175725029690675,0.6188779761928018,0.5045729172168839,0.500659340806675]},\"selected\":{\"id\":\"1060\",\"type\":\"Selection\"},\"selection_policy\":{\"id\":\"1074\",\"type\":\"UnionRenderers\"}},\"id\":\"1002\",\"type\":\"ColumnDataSource\"},{\"attributes\":{\"dimension\":1,\"ticker\":{\"id\":\"1050\",\"type\":\"BasicTicker\"}},\"id\":\"1053\",\"type\":\"Grid\"},{\"attributes\":{\"below\":[{\"id\":\"1014\",\"type\":\"LinearAxis\"}],\"center\":[{\"id\":\"1018\",\"type\":\"Grid\"},{\"id\":\"1023\",\"type\":\"Grid\"}],\"left\":[{\"id\":\"1019\",\"type\":\"LinearAxis\"}],\"plot_height\":400,\"plot_width\":400,\"renderers\":[{\"id\":\"1030\",\"type\":\"GlyphRenderer\"}],\"title\":{\"id\":\"1004\",\"type\":\"Title\"},\"toolbar\":{\"id\":\"1025\",\"type\":\"Toolbar\"},\"x_range\":{\"id\":\"1006\",\"type\":\"DataRange1d\"},\"x_scale\":{\"id\":\"1010\",\"type\":\"LinearScale\"},\"y_range\":{\"id\":\"1008\",\"type\":\"DataRange1d\"},\"y_scale\":{\"id\":\"1012\",\"type\":\"LinearScale\"}},\"id\":\"1003\",\"subtype\":\"Figure\",\"type\":\"Plot\"},{\"attributes\":{\"text\":\"Select Here\"},\"id\":\"1004\",\"type\":\"Title\"},{\"attributes\":{\"active_drag\":\"auto\",\"active_inspect\":\"auto\",\"active_multi\":null,\"active_scroll\":\"auto\",\"active_tap\":\"auto\"},\"id\":\"1054\",\"type\":\"Toolbar\"},{\"attributes\":{\"formatter\":{\"id\":\"1068\",\"type\":\"BasicTickFormatter\"},\"ticker\":{\"id\":\"1015\",\"type\":\"BasicTicker\"}},\"id\":\"1014\",\"type\":\"LinearAxis\"},{\"attributes\":{\"fill_alpha\":{\"value\":0.1},\"fill_color\":{\"value\":\"#1f77b4\"},\"line_alpha\":{\"value\":0.1},\"line_color\":{\"value\":\"#1f77b4\"},\"x\":{\"field\":\"x\"},\"y\":{\"field\":\"y\"}},\"id\":\"1057\",\"type\":\"Circle\"},{\"attributes\":{\"callback\":null},\"id\":\"1006\",\"type\":\"DataRange1d\"},{\"attributes\":{},\"id\":\"1012\",\"type\":\"LinearScale\"}],\"root_ids\":[\"1062\"]},\"title\":\"Bokeh Application\",\"version\":\"1.4.0\"}};\n",
       "  var render_items = [{\"docid\":\"d1ea1d61-4d31-4c09-b809-d959133720ca\",\"roots\":{\"1062\":\"44e5b2f4-8de8-4196-906c-6465e765d7e6\"}}];\n",
       "  root.Bokeh.embed.embed_items_notebook(docs_json, render_items);\n",
       "\n",
       "  }\n",
       "  if (root.Bokeh !== undefined) {\n",
       "    embed_document(root);\n",
       "  } else {\n",
       "    var attempts = 0;\n",
       "    var timer = setInterval(function(root) {\n",
       "      if (root.Bokeh !== undefined) {\n",
       "        clearInterval(timer);\n",
       "        embed_document(root);\n",
       "      } else {\n",
       "        attempts++;\n",
       "        if (attempts > 100) {\n",
       "          clearInterval(timer);\n",
       "          console.log(\"Bokeh: ERROR: Unable to run BokehJS code because BokehJS library is missing\");\n",
       "        }\n",
       "      }\n",
       "    }, 10, root)\n",
       "  }\n",
       "})(window);"
      ],
      "application/vnd.bokehjs_exec.v0+json": ""
     },
     "metadata": {
      "application/vnd.bokehjs_exec.v0+json": {
       "id": "1062"
      }
     },
     "output_type": "display_data"
    }
   ],
   "source": [
    "output_file(\"callback2.html\")\n",
    "\n",
    "x = [random() for x in range(500)]\n",
    "y = [random() for y in range(500)]\n",
    "\n",
    "s1 = ColumnDataSource(data=dict(x=x, y=y))\n",
    "p1 = figure(plot_width=400, plot_height=400, tools=\"lasso_select\", title=\"Select Here\")\n",
    "p1.circle('x', 'y', source=s1, alpha=0.6)\n",
    "\n",
    "s2 = ColumnDataSource(data=dict(x=[], y=[]))\n",
    "p2 = figure(plot_width=400, plot_height=400, x_range=(0, 1), y_range=(0, 1),\n",
    "            tools=\"\", title=\"Watch Here\")\n",
    "p2.circle('x', 'y', source=s2, alpha=0.6)\n",
    "\n",
    "s1.selected.js_on_change('indices', CustomJS(args=dict(s1=s1, s2=s2), code=\"\"\"\n",
    "        var inds = cb_obj.indices;\n",
    "        var d1 = s1.data;\n",
    "        var d2 = s2.data;\n",
    "        d2['x'] = []\n",
    "        d2['y'] = []\n",
    "        for (var i = 0; i < inds.length; i++) {\n",
    "            d2['x'].push(d1['x'][inds[i]])\n",
    "            d2['y'].push(d1['y'][inds[i]])\n",
    "        }\n",
    "        s2.change.emit();\n",
    "    \"\"\")\n",
    ")\n",
    "\n",
    "layout = row(p1, p2)\n",
    "\n",
    "show(layout)"
   ]
  },
  {
   "cell_type": "code",
   "execution_count": 8,
   "metadata": {
    "ExecuteTime": {
     "end_time": "2020-03-16T19:07:39.091921Z",
     "start_time": "2020-03-16T19:07:39.084742Z"
    }
   },
   "outputs": [
    {
     "data": {
      "text/plain": [
       "'1060'"
      ]
     },
     "execution_count": 8,
     "metadata": {},
     "output_type": "execute_result"
    }
   ],
   "source": [
    "s1.selected.id"
   ]
  },
  {
   "cell_type": "code",
   "execution_count": 8,
   "metadata": {
    "Collapsed": "false",
    "ExecuteTime": {
     "end_time": "2020-03-16T19:03:18.196290Z",
     "start_time": "2020-03-16T19:03:18.158875Z"
    }
   },
   "outputs": [
    {
     "ename": "RuntimeError",
     "evalue": "Models must be owned by only a single document, Figure(id='1444', ...) is already in a doc",
     "output_type": "error",
     "traceback": [
      "\u001b[0;31m---------------------------------------------------------------------------\u001b[0m",
      "\u001b[0;31mRuntimeError\u001b[0m                              Traceback (most recent call last)",
      "\u001b[0;32m<ipython-input-8-099be1f6c7a2>\u001b[0m in \u001b[0;36m<module>\u001b[0;34m\u001b[0m\n\u001b[0;32m----> 1\u001b[0;31m \u001b[0mshow\u001b[0m\u001b[0;34m(\u001b[0m\u001b[0mlayout\u001b[0m\u001b[0;34m)\u001b[0m\u001b[0;34m\u001b[0m\u001b[0;34m\u001b[0m\u001b[0m\n\u001b[0m",
      "\u001b[0;32m/mnt/telg/programs/anaconda3/envs/py38/lib/python3.8/site-packages/bokeh/io/showing.py\u001b[0m in \u001b[0;36mshow\u001b[0;34m(obj, browser, new, notebook_handle, notebook_url, **kw)\u001b[0m\n\u001b[1;32m    143\u001b[0m         \u001b[0;32mreturn\u001b[0m \u001b[0mrun_notebook_hook\u001b[0m\u001b[0;34m(\u001b[0m\u001b[0mstate\u001b[0m\u001b[0;34m.\u001b[0m\u001b[0mnotebook_type\u001b[0m\u001b[0;34m,\u001b[0m \u001b[0;34m'app'\u001b[0m\u001b[0;34m,\u001b[0m \u001b[0mobj\u001b[0m\u001b[0;34m,\u001b[0m \u001b[0mstate\u001b[0m\u001b[0;34m,\u001b[0m \u001b[0mnotebook_url\u001b[0m\u001b[0;34m,\u001b[0m \u001b[0;34m**\u001b[0m\u001b[0mkw\u001b[0m\u001b[0;34m)\u001b[0m\u001b[0;34m\u001b[0m\u001b[0;34m\u001b[0m\u001b[0m\n\u001b[1;32m    144\u001b[0m \u001b[0;34m\u001b[0m\u001b[0m\n\u001b[0;32m--> 145\u001b[0;31m     \u001b[0;32mreturn\u001b[0m \u001b[0m_show_with_state\u001b[0m\u001b[0;34m(\u001b[0m\u001b[0mobj\u001b[0m\u001b[0;34m,\u001b[0m \u001b[0mstate\u001b[0m\u001b[0;34m,\u001b[0m \u001b[0mbrowser\u001b[0m\u001b[0;34m,\u001b[0m \u001b[0mnew\u001b[0m\u001b[0;34m,\u001b[0m \u001b[0mnotebook_handle\u001b[0m\u001b[0;34m=\u001b[0m\u001b[0mnotebook_handle\u001b[0m\u001b[0;34m)\u001b[0m\u001b[0;34m\u001b[0m\u001b[0;34m\u001b[0m\u001b[0m\n\u001b[0m\u001b[1;32m    146\u001b[0m \u001b[0;34m\u001b[0m\u001b[0m\n\u001b[1;32m    147\u001b[0m \u001b[0;31m#-----------------------------------------------------------------------------\u001b[0m\u001b[0;34m\u001b[0m\u001b[0;34m\u001b[0m\u001b[0;34m\u001b[0m\u001b[0m\n",
      "\u001b[0;32m/mnt/telg/programs/anaconda3/envs/py38/lib/python3.8/site-packages/bokeh/io/showing.py\u001b[0m in \u001b[0;36m_show_with_state\u001b[0;34m(obj, state, browser, new, notebook_handle)\u001b[0m\n\u001b[1;32m    177\u001b[0m \u001b[0;34m\u001b[0m\u001b[0m\n\u001b[1;32m    178\u001b[0m     \u001b[0;32mif\u001b[0m \u001b[0mstate\u001b[0m\u001b[0;34m.\u001b[0m\u001b[0mnotebook\u001b[0m\u001b[0;34m:\u001b[0m\u001b[0;34m\u001b[0m\u001b[0;34m\u001b[0m\u001b[0m\n\u001b[0;32m--> 179\u001b[0;31m         \u001b[0mcomms_handle\u001b[0m \u001b[0;34m=\u001b[0m \u001b[0mrun_notebook_hook\u001b[0m\u001b[0;34m(\u001b[0m\u001b[0mstate\u001b[0m\u001b[0;34m.\u001b[0m\u001b[0mnotebook_type\u001b[0m\u001b[0;34m,\u001b[0m \u001b[0;34m'doc'\u001b[0m\u001b[0;34m,\u001b[0m \u001b[0mobj\u001b[0m\u001b[0;34m,\u001b[0m \u001b[0mstate\u001b[0m\u001b[0;34m,\u001b[0m \u001b[0mnotebook_handle\u001b[0m\u001b[0;34m)\u001b[0m\u001b[0;34m\u001b[0m\u001b[0;34m\u001b[0m\u001b[0m\n\u001b[0m\u001b[1;32m    180\u001b[0m         \u001b[0mshown\u001b[0m \u001b[0;34m=\u001b[0m \u001b[0;32mTrue\u001b[0m\u001b[0;34m\u001b[0m\u001b[0;34m\u001b[0m\u001b[0m\n\u001b[1;32m    181\u001b[0m \u001b[0;34m\u001b[0m\u001b[0m\n",
      "\u001b[0;32m/mnt/telg/programs/anaconda3/envs/py38/lib/python3.8/site-packages/bokeh/io/notebook.py\u001b[0m in \u001b[0;36mrun_notebook_hook\u001b[0;34m(notebook_type, action, *args, **kw)\u001b[0m\n\u001b[1;32m    300\u001b[0m     \u001b[0;32mif\u001b[0m \u001b[0m_HOOKS\u001b[0m\u001b[0;34m[\u001b[0m\u001b[0mnotebook_type\u001b[0m\u001b[0;34m]\u001b[0m\u001b[0;34m[\u001b[0m\u001b[0maction\u001b[0m\u001b[0;34m]\u001b[0m \u001b[0;32mis\u001b[0m \u001b[0;32mNone\u001b[0m\u001b[0;34m:\u001b[0m\u001b[0;34m\u001b[0m\u001b[0;34m\u001b[0m\u001b[0m\n\u001b[1;32m    301\u001b[0m         \u001b[0;32mraise\u001b[0m \u001b[0mRuntimeError\u001b[0m\u001b[0;34m(\u001b[0m\u001b[0;34m\"notebook hook for %r did not install %r action\"\u001b[0m \u001b[0;34m%\u001b[0m \u001b[0mnotebook_type\u001b[0m\u001b[0;34m,\u001b[0m \u001b[0maction\u001b[0m\u001b[0;34m)\u001b[0m\u001b[0;34m\u001b[0m\u001b[0;34m\u001b[0m\u001b[0m\n\u001b[0;32m--> 302\u001b[0;31m     \u001b[0;32mreturn\u001b[0m \u001b[0m_HOOKS\u001b[0m\u001b[0;34m[\u001b[0m\u001b[0mnotebook_type\u001b[0m\u001b[0;34m]\u001b[0m\u001b[0;34m[\u001b[0m\u001b[0maction\u001b[0m\u001b[0;34m]\u001b[0m\u001b[0;34m(\u001b[0m\u001b[0;34m*\u001b[0m\u001b[0margs\u001b[0m\u001b[0;34m,\u001b[0m \u001b[0;34m**\u001b[0m\u001b[0mkw\u001b[0m\u001b[0;34m)\u001b[0m\u001b[0;34m\u001b[0m\u001b[0;34m\u001b[0m\u001b[0m\n\u001b[0m\u001b[1;32m    303\u001b[0m \u001b[0;34m\u001b[0m\u001b[0m\n\u001b[1;32m    304\u001b[0m \u001b[0;31m#-----------------------------------------------------------------------------\u001b[0m\u001b[0;34m\u001b[0m\u001b[0;34m\u001b[0m\u001b[0;34m\u001b[0m\u001b[0m\n",
      "\u001b[0;32m/mnt/telg/programs/anaconda3/envs/py38/lib/python3.8/site-packages/bokeh/io/notebook.py\u001b[0m in \u001b[0;36mshow_doc\u001b[0;34m(obj, state, notebook_handle)\u001b[0m\n\u001b[1;32m    506\u001b[0m     '''\n\u001b[1;32m    507\u001b[0m     \u001b[0;32mif\u001b[0m \u001b[0mobj\u001b[0m \u001b[0;32mnot\u001b[0m \u001b[0;32min\u001b[0m \u001b[0mstate\u001b[0m\u001b[0;34m.\u001b[0m\u001b[0mdocument\u001b[0m\u001b[0;34m.\u001b[0m\u001b[0mroots\u001b[0m\u001b[0;34m:\u001b[0m\u001b[0;34m\u001b[0m\u001b[0;34m\u001b[0m\u001b[0m\n\u001b[0;32m--> 508\u001b[0;31m         \u001b[0mstate\u001b[0m\u001b[0;34m.\u001b[0m\u001b[0mdocument\u001b[0m\u001b[0;34m.\u001b[0m\u001b[0madd_root\u001b[0m\u001b[0;34m(\u001b[0m\u001b[0mobj\u001b[0m\u001b[0;34m)\u001b[0m\u001b[0;34m\u001b[0m\u001b[0;34m\u001b[0m\u001b[0m\n\u001b[0m\u001b[1;32m    509\u001b[0m \u001b[0;34m\u001b[0m\u001b[0m\n\u001b[1;32m    510\u001b[0m     \u001b[0;32mfrom\u001b[0m \u001b[0;34m.\u001b[0m\u001b[0;34m.\u001b[0m\u001b[0membed\u001b[0m\u001b[0;34m.\u001b[0m\u001b[0mnotebook\u001b[0m \u001b[0;32mimport\u001b[0m \u001b[0mnotebook_content\u001b[0m\u001b[0;34m\u001b[0m\u001b[0;34m\u001b[0m\u001b[0m\n",
      "\u001b[0;32m/mnt/telg/programs/anaconda3/envs/py38/lib/python3.8/site-packages/bokeh/document/document.py\u001b[0m in \u001b[0;36madd_root\u001b[0;34m(self, model, setter)\u001b[0m\n\u001b[1;32m    302\u001b[0m             \u001b[0mself\u001b[0m\u001b[0;34m.\u001b[0m\u001b[0m_roots\u001b[0m\u001b[0;34m.\u001b[0m\u001b[0mappend\u001b[0m\u001b[0;34m(\u001b[0m\u001b[0mmodel\u001b[0m\u001b[0;34m)\u001b[0m\u001b[0;34m\u001b[0m\u001b[0;34m\u001b[0m\u001b[0m\n\u001b[1;32m    303\u001b[0m         \u001b[0;32mfinally\u001b[0m\u001b[0;34m:\u001b[0m\u001b[0;34m\u001b[0m\u001b[0;34m\u001b[0m\u001b[0m\n\u001b[0;32m--> 304\u001b[0;31m             \u001b[0mself\u001b[0m\u001b[0;34m.\u001b[0m\u001b[0m_pop_all_models_freeze\u001b[0m\u001b[0;34m(\u001b[0m\u001b[0;34m)\u001b[0m\u001b[0;34m\u001b[0m\u001b[0;34m\u001b[0m\u001b[0m\n\u001b[0m\u001b[1;32m    305\u001b[0m         \u001b[0mself\u001b[0m\u001b[0;34m.\u001b[0m\u001b[0m_trigger_on_change\u001b[0m\u001b[0;34m(\u001b[0m\u001b[0mRootAddedEvent\u001b[0m\u001b[0;34m(\u001b[0m\u001b[0mself\u001b[0m\u001b[0;34m,\u001b[0m \u001b[0mmodel\u001b[0m\u001b[0;34m,\u001b[0m \u001b[0msetter\u001b[0m\u001b[0;34m)\u001b[0m\u001b[0;34m)\u001b[0m\u001b[0;34m\u001b[0m\u001b[0;34m\u001b[0m\u001b[0m\n\u001b[1;32m    306\u001b[0m \u001b[0;34m\u001b[0m\u001b[0m\n",
      "\u001b[0;32m/mnt/telg/programs/anaconda3/envs/py38/lib/python3.8/site-packages/bokeh/document/document.py\u001b[0m in \u001b[0;36m_pop_all_models_freeze\u001b[0;34m(self)\u001b[0m\n\u001b[1;32m   1017\u001b[0m         \u001b[0mself\u001b[0m\u001b[0;34m.\u001b[0m\u001b[0m_all_models_freeze_count\u001b[0m \u001b[0;34m-=\u001b[0m \u001b[0;36m1\u001b[0m\u001b[0;34m\u001b[0m\u001b[0;34m\u001b[0m\u001b[0m\n\u001b[1;32m   1018\u001b[0m         \u001b[0;32mif\u001b[0m \u001b[0mself\u001b[0m\u001b[0;34m.\u001b[0m\u001b[0m_all_models_freeze_count\u001b[0m \u001b[0;34m==\u001b[0m \u001b[0;36m0\u001b[0m\u001b[0;34m:\u001b[0m\u001b[0;34m\u001b[0m\u001b[0;34m\u001b[0m\u001b[0m\n\u001b[0;32m-> 1019\u001b[0;31m             \u001b[0mself\u001b[0m\u001b[0;34m.\u001b[0m\u001b[0m_recompute_all_models\u001b[0m\u001b[0;34m(\u001b[0m\u001b[0;34m)\u001b[0m\u001b[0;34m\u001b[0m\u001b[0;34m\u001b[0m\u001b[0m\n\u001b[0m\u001b[1;32m   1020\u001b[0m \u001b[0;34m\u001b[0m\u001b[0m\n\u001b[1;32m   1021\u001b[0m     \u001b[0;32mdef\u001b[0m \u001b[0m_recompute_all_models\u001b[0m\u001b[0;34m(\u001b[0m\u001b[0mself\u001b[0m\u001b[0;34m)\u001b[0m\u001b[0;34m:\u001b[0m\u001b[0;34m\u001b[0m\u001b[0;34m\u001b[0m\u001b[0m\n",
      "\u001b[0;32m/mnt/telg/programs/anaconda3/envs/py38/lib/python3.8/site-packages/bokeh/document/document.py\u001b[0m in \u001b[0;36m_recompute_all_models\u001b[0;34m(self)\u001b[0m\n\u001b[1;32m   1040\u001b[0m             \u001b[0md\u001b[0m\u001b[0;34m.\u001b[0m\u001b[0m_detach_document\u001b[0m\u001b[0;34m(\u001b[0m\u001b[0;34m)\u001b[0m\u001b[0;34m\u001b[0m\u001b[0;34m\u001b[0m\u001b[0m\n\u001b[1;32m   1041\u001b[0m         \u001b[0;32mfor\u001b[0m \u001b[0ma\u001b[0m \u001b[0;32min\u001b[0m \u001b[0mto_attach\u001b[0m\u001b[0;34m:\u001b[0m\u001b[0;34m\u001b[0m\u001b[0;34m\u001b[0m\u001b[0m\n\u001b[0;32m-> 1042\u001b[0;31m             \u001b[0ma\u001b[0m\u001b[0;34m.\u001b[0m\u001b[0m_attach_document\u001b[0m\u001b[0;34m(\u001b[0m\u001b[0mself\u001b[0m\u001b[0;34m)\u001b[0m\u001b[0;34m\u001b[0m\u001b[0;34m\u001b[0m\u001b[0m\n\u001b[0m\u001b[1;32m   1043\u001b[0m         \u001b[0mself\u001b[0m\u001b[0;34m.\u001b[0m\u001b[0m_all_models\u001b[0m \u001b[0;34m=\u001b[0m \u001b[0mrecomputed\u001b[0m\u001b[0;34m\u001b[0m\u001b[0;34m\u001b[0m\u001b[0m\n\u001b[1;32m   1044\u001b[0m         \u001b[0mself\u001b[0m\u001b[0;34m.\u001b[0m\u001b[0m_all_models_by_name\u001b[0m \u001b[0;34m=\u001b[0m \u001b[0mrecomputed_by_name\u001b[0m\u001b[0;34m\u001b[0m\u001b[0;34m\u001b[0m\u001b[0m\n",
      "\u001b[0;32m/mnt/telg/programs/anaconda3/envs/py38/lib/python3.8/site-packages/bokeh/model.py\u001b[0m in \u001b[0;36m_attach_document\u001b[0;34m(self, doc)\u001b[0m\n\u001b[1;32m    725\u001b[0m         '''\n\u001b[1;32m    726\u001b[0m         \u001b[0;32mif\u001b[0m \u001b[0mself\u001b[0m\u001b[0;34m.\u001b[0m\u001b[0m_document\u001b[0m \u001b[0;32mis\u001b[0m \u001b[0;32mnot\u001b[0m \u001b[0;32mNone\u001b[0m \u001b[0;32mand\u001b[0m \u001b[0mself\u001b[0m\u001b[0;34m.\u001b[0m\u001b[0m_document\u001b[0m \u001b[0;32mis\u001b[0m \u001b[0;32mnot\u001b[0m \u001b[0mdoc\u001b[0m\u001b[0;34m:\u001b[0m\u001b[0;34m\u001b[0m\u001b[0;34m\u001b[0m\u001b[0m\n\u001b[0;32m--> 727\u001b[0;31m             \u001b[0;32mraise\u001b[0m \u001b[0mRuntimeError\u001b[0m\u001b[0;34m(\u001b[0m\u001b[0;34m\"Models must be owned by only a single document, %r is already in a doc\"\u001b[0m \u001b[0;34m%\u001b[0m \u001b[0;34m(\u001b[0m\u001b[0mself\u001b[0m\u001b[0;34m)\u001b[0m\u001b[0;34m)\u001b[0m\u001b[0;34m\u001b[0m\u001b[0;34m\u001b[0m\u001b[0m\n\u001b[0m\u001b[1;32m    728\u001b[0m         \u001b[0mdoc\u001b[0m\u001b[0;34m.\u001b[0m\u001b[0mtheme\u001b[0m\u001b[0;34m.\u001b[0m\u001b[0mapply_to_model\u001b[0m\u001b[0;34m(\u001b[0m\u001b[0mself\u001b[0m\u001b[0;34m)\u001b[0m\u001b[0;34m\u001b[0m\u001b[0;34m\u001b[0m\u001b[0m\n\u001b[1;32m    729\u001b[0m         \u001b[0mself\u001b[0m\u001b[0;34m.\u001b[0m\u001b[0m_document\u001b[0m \u001b[0;34m=\u001b[0m \u001b[0mdoc\u001b[0m\u001b[0;34m\u001b[0m\u001b[0;34m\u001b[0m\u001b[0m\n",
      "\u001b[0;31mRuntimeError\u001b[0m: Models must be owned by only a single document, Figure(id='1444', ...) is already in a doc"
     ]
    }
   ],
   "source": [
    "show(layout)"
   ]
  },
  {
   "cell_type": "code",
   "execution_count": null,
   "metadata": {
    "Collapsed": "false"
   },
   "outputs": [],
   "source": []
  },
  {
   "cell_type": "markdown",
   "metadata": {
    "Collapsed": "false"
   },
   "source": [
    "# get the data"
   ]
  },
  {
   "cell_type": "code",
   "execution_count": null,
   "metadata": {
    "Collapsed": "false"
   },
   "outputs": [],
   "source": [
    "https://docs.bokeh.org/en/latest/docs/user_guide/data.html"
   ]
  },
  {
   "cell_type": "markdown",
   "metadata": {
    "Collapsed": "false"
   },
   "source": [
    "# running a server to actually change the data"
   ]
  },
  {
   "cell_type": "code",
   "execution_count": null,
   "metadata": {
    "Collapsed": "false"
   },
   "outputs": [],
   "source": []
  }
 ],
 "metadata": {
  "hide_input": false,
  "kernelspec": {
   "display_name": "Python 3",
   "language": "python",
   "name": "python3"
  },
  "language_info": {
   "codemirror_mode": {
    "name": "ipython",
    "version": 3
   },
   "file_extension": ".py",
   "mimetype": "text/x-python",
   "name": "python",
   "nbconvert_exporter": "python",
   "pygments_lexer": "ipython3",
   "version": "3.8.1"
  },
  "toc": {
   "base_numbering": 1,
   "nav_menu": {},
   "number_sections": true,
   "sideBar": true,
   "skip_h1_title": false,
   "title_cell": "Table of Contents",
   "title_sidebar": "Contents",
   "toc_cell": false,
   "toc_position": {},
   "toc_section_display": true,
   "toc_window_display": false
  },
  "varInspector": {
   "cols": {
    "lenName": 16,
    "lenType": 16,
    "lenVar": 40
   },
   "kernels_config": {
    "python": {
     "delete_cmd_postfix": "",
     "delete_cmd_prefix": "del ",
     "library": "var_list.py",
     "varRefreshCmd": "print(var_dic_list())"
    },
    "r": {
     "delete_cmd_postfix": ") ",
     "delete_cmd_prefix": "rm(",
     "library": "var_list.r",
     "varRefreshCmd": "cat(var_dic_list()) "
    }
   },
   "types_to_exclude": [
    "module",
    "function",
    "builtin_function_or_method",
    "instance",
    "_Feature"
   ],
   "window_display": false
  }
 },
 "nbformat": 4,
 "nbformat_minor": 4
}
